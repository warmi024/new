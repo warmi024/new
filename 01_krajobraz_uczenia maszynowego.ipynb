{
 "cells": [
  {
   "cell_type": "code",
   "execution_count": 1,
   "metadata": {},
   "outputs": [],
   "source": [
    "import matplotlib.pyplot as plt\n",
    "import numpy as np\n",
    "import pandas as pd\n",
    "from sklearn.linear_model import LinearRegression\n",
    "from pathlib import Path\n",
    "\n",
    "np.random.seed(42)\n",
    "\n",
    "plt.rc('font', size=12)\n",
    "plt.rc('axes', labelsize=14, titlesize=14)\n",
    "plt.rc('legend', fontsize=12)\n",
    "plt.rc('xtick', labelsize=10)\n",
    "plt.rc('ytick', labelsize=10)\n",
    "\n",
    "pd.set_option('display.max_columns', None)"
   ]
  },
  {
   "cell_type": "code",
   "execution_count": 2,
   "metadata": {},
   "outputs": [],
   "source": [
    "datapath = Path() / \"data\" / \"lifesat\"\n",
    "\n",
    "oced_bli = pd.read_csv(datapath / \"oecd_bli.csv\")\n",
    "gdp_er_capita = pd.read_csv(datapath / \"gdp_per_capita.csv\")"
   ]
  },
  {
   "cell_type": "code",
   "execution_count": 3,
   "metadata": {},
   "outputs": [
    {
     "data": {
      "text/html": [
       "<div>\n",
       "<style scoped>\n",
       "    .dataframe tbody tr th:only-of-type {\n",
       "        vertical-align: middle;\n",
       "    }\n",
       "\n",
       "    .dataframe tbody tr th {\n",
       "        vertical-align: top;\n",
       "    }\n",
       "\n",
       "    .dataframe thead th {\n",
       "        text-align: right;\n",
       "    }\n",
       "</style>\n",
       "<table border=\"1\" class=\"dataframe\">\n",
       "  <thead>\n",
       "    <tr style=\"text-align: right;\">\n",
       "      <th></th>\n",
       "      <th>Entity</th>\n",
       "      <th>Code</th>\n",
       "      <th>Year</th>\n",
       "      <th>GDP per capita (USD)</th>\n",
       "    </tr>\n",
       "  </thead>\n",
       "  <tbody>\n",
       "    <tr>\n",
       "      <th>18</th>\n",
       "      <td>Afghanistan</td>\n",
       "      <td>AFG</td>\n",
       "      <td>2020</td>\n",
       "      <td>1978.961579</td>\n",
       "    </tr>\n",
       "    <tr>\n",
       "      <th>49</th>\n",
       "      <td>Africa Eastern and Southern</td>\n",
       "      <td>NaN</td>\n",
       "      <td>2020</td>\n",
       "      <td>3387.594670</td>\n",
       "    </tr>\n",
       "    <tr>\n",
       "      <th>80</th>\n",
       "      <td>Africa Western and Central</td>\n",
       "      <td>NaN</td>\n",
       "      <td>2020</td>\n",
       "      <td>4003.158913</td>\n",
       "    </tr>\n",
       "    <tr>\n",
       "      <th>111</th>\n",
       "      <td>Albania</td>\n",
       "      <td>ALB</td>\n",
       "      <td>2020</td>\n",
       "      <td>13295.410885</td>\n",
       "    </tr>\n",
       "    <tr>\n",
       "      <th>142</th>\n",
       "      <td>Algeria</td>\n",
       "      <td>DZA</td>\n",
       "      <td>2020</td>\n",
       "      <td>10681.679297</td>\n",
       "    </tr>\n",
       "    <tr>\n",
       "      <th>...</th>\n",
       "      <td>...</td>\n",
       "      <td>...</td>\n",
       "      <td>...</td>\n",
       "      <td>...</td>\n",
       "    </tr>\n",
       "    <tr>\n",
       "      <th>6984</th>\n",
       "      <td>Vanuatu</td>\n",
       "      <td>VUT</td>\n",
       "      <td>2020</td>\n",
       "      <td>2762.791388</td>\n",
       "    </tr>\n",
       "    <tr>\n",
       "      <th>7015</th>\n",
       "      <td>Vietnam</td>\n",
       "      <td>VNM</td>\n",
       "      <td>2020</td>\n",
       "      <td>8200.331867</td>\n",
       "    </tr>\n",
       "    <tr>\n",
       "      <th>7046</th>\n",
       "      <td>World</td>\n",
       "      <td>OWID_WRL</td>\n",
       "      <td>2020</td>\n",
       "      <td>16194.040310</td>\n",
       "    </tr>\n",
       "    <tr>\n",
       "      <th>7077</th>\n",
       "      <td>Zambia</td>\n",
       "      <td>ZMB</td>\n",
       "      <td>2020</td>\n",
       "      <td>3270.035112</td>\n",
       "    </tr>\n",
       "    <tr>\n",
       "      <th>7108</th>\n",
       "      <td>Zimbabwe</td>\n",
       "      <td>ZWE</td>\n",
       "      <td>2020</td>\n",
       "      <td>2744.690758</td>\n",
       "    </tr>\n",
       "  </tbody>\n",
       "</table>\n",
       "<p>224 rows × 4 columns</p>\n",
       "</div>"
      ],
      "text/plain": [
       "                           Entity      Code  Year  GDP per capita (USD)\n",
       "18                    Afghanistan       AFG  2020           1978.961579\n",
       "49    Africa Eastern and Southern       NaN  2020           3387.594670\n",
       "80     Africa Western and Central       NaN  2020           4003.158913\n",
       "111                       Albania       ALB  2020          13295.410885\n",
       "142                       Algeria       DZA  2020          10681.679297\n",
       "...                           ...       ...   ...                   ...\n",
       "6984                      Vanuatu       VUT  2020           2762.791388\n",
       "7015                      Vietnam       VNM  2020           8200.331867\n",
       "7046                        World  OWID_WRL  2020          16194.040310\n",
       "7077                       Zambia       ZMB  2020           3270.035112\n",
       "7108                     Zimbabwe       ZWE  2020           2744.690758\n",
       "\n",
       "[224 rows x 4 columns]"
      ]
     },
     "execution_count": 3,
     "metadata": {},
     "output_type": "execute_result"
    }
   ],
   "source": [
    "gdp_er_capita_2020=gdp_er_capita[gdp_er_capita['Year']==2020]\n",
    "gdp_er_capita_2020=gdp_er_capita_2020.rename(columns={\"GDP per capita, PPP (constant 2017 international $)\": \"GDP per capita (USD)\"})\n",
    "gdp_er_capita_2020"
   ]
  },
  {
   "cell_type": "code",
   "execution_count": 4,
   "metadata": {},
   "outputs": [],
   "source": [
    "oced_bli[\"Indicator\"].value_counts()\n",
    "oced_bli = oced_bli[oced_bli[\"INEQUALITY\"]==\"TOT\"]\n",
    "oced_bli = oced_bli.pivot(\n",
    "    index = \"Country\",\n",
    "    columns = \"Indicator\",\n",
    "    values = \"Value\"\n",
    ")\n",
    "oced_bli=oced_bli.reset_index()"
   ]
  },
  {
   "cell_type": "code",
   "execution_count": 5,
   "metadata": {},
   "outputs": [
    {
     "name": "stdout",
     "output_type": "stream",
     "text": [
      "<class 'pandas.core.frame.DataFrame'>\n",
      "Index: 224 entries, 18 to 7108\n",
      "Data columns (total 4 columns):\n",
      " #   Column                Non-Null Count  Dtype  \n",
      "---  ------                --------------  -----  \n",
      " 0   Entity                224 non-null    object \n",
      " 1   Code                  179 non-null    object \n",
      " 2   Year                  224 non-null    int64  \n",
      " 3   GDP per capita (USD)  224 non-null    float64\n",
      "dtypes: float64(1), int64(1), object(2)\n",
      "memory usage: 8.8+ KB\n"
     ]
    }
   ],
   "source": [
    "gdp_er_capita_2020.info()"
   ]
  },
  {
   "cell_type": "code",
   "execution_count": 6,
   "metadata": {},
   "outputs": [],
   "source": [
    "full_country_stats = oced_bli.merge(\n",
    "    gdp_er_capita_2020,\n",
    "    left_on = \"Country\",\n",
    "    right_on = \"Entity\",\n",
    "    how = \"inner\"\n",
    ")"
   ]
  },
  {
   "cell_type": "code",
   "execution_count": 7,
   "metadata": {},
   "outputs": [],
   "source": [
    "full_country_stats = full_country_stats[[\"Country\", \"Life satisfaction\", \"GDP per capita (USD)\"]]\n",
    "full_country_stats = full_country_stats.sort_values(by = \"GDP per capita (USD)\")"
   ]
  },
  {
   "cell_type": "code",
   "execution_count": 8,
   "metadata": {},
   "outputs": [],
   "source": [
    "full_country_stats.to_csv(datapath / \"lifesat_full.csv\", index=False)"
   ]
  },
  {
   "cell_type": "code",
   "execution_count": 9,
   "metadata": {},
   "outputs": [],
   "source": [
    "min_gdp = 23_500\n",
    "max_gdp = 62_500\n",
    "\n",
    "country_stats = full_country_stats[\n",
    "    (full_country_stats[\"GDP per capita (USD)\"] >= min_gdp)\n",
    "    & (full_country_stats[\"GDP per capita (USD)\"] <= max_gdp)\n",
    "]\n",
    "country_stats.to_csv(datapath / \"lifesat.cvs\", index=False)"
   ]
  },
  {
   "cell_type": "code",
   "execution_count": 10,
   "metadata": {},
   "outputs": [
    {
     "data": {
      "text/html": [
       "<div>\n",
       "<style scoped>\n",
       "    .dataframe tbody tr th:only-of-type {\n",
       "        vertical-align: middle;\n",
       "    }\n",
       "\n",
       "    .dataframe tbody tr th {\n",
       "        vertical-align: top;\n",
       "    }\n",
       "\n",
       "    .dataframe thead th {\n",
       "        text-align: right;\n",
       "    }\n",
       "</style>\n",
       "<table border=\"1\" class=\"dataframe\">\n",
       "  <thead>\n",
       "    <tr style=\"text-align: right;\">\n",
       "      <th></th>\n",
       "      <th>Country</th>\n",
       "      <th>Satysfakcja życia</th>\n",
       "      <th>PKB na mieszkańca (USD)</th>\n",
       "    </tr>\n",
       "  </thead>\n",
       "  <tbody>\n",
       "    <tr>\n",
       "      <th>0</th>\n",
       "      <td>Russia</td>\n",
       "      <td>5.8</td>\n",
       "      <td>26456.387938</td>\n",
       "    </tr>\n",
       "    <tr>\n",
       "      <th>1</th>\n",
       "      <td>Greece</td>\n",
       "      <td>5.4</td>\n",
       "      <td>27287.083401</td>\n",
       "    </tr>\n",
       "    <tr>\n",
       "      <th>2</th>\n",
       "      <td>Turkey</td>\n",
       "      <td>5.5</td>\n",
       "      <td>28384.987785</td>\n",
       "    </tr>\n",
       "    <tr>\n",
       "      <th>3</th>\n",
       "      <td>Latvia</td>\n",
       "      <td>5.9</td>\n",
       "      <td>29932.493910</td>\n",
       "    </tr>\n",
       "    <tr>\n",
       "      <th>4</th>\n",
       "      <td>Hungary</td>\n",
       "      <td>5.6</td>\n",
       "      <td>31007.768407</td>\n",
       "    </tr>\n",
       "    <tr>\n",
       "      <th>5</th>\n",
       "      <td>Portugal</td>\n",
       "      <td>5.4</td>\n",
       "      <td>32181.154537</td>\n",
       "    </tr>\n",
       "    <tr>\n",
       "      <th>6</th>\n",
       "      <td>Poland</td>\n",
       "      <td>6.1</td>\n",
       "      <td>32238.157259</td>\n",
       "    </tr>\n",
       "    <tr>\n",
       "      <th>7</th>\n",
       "      <td>Estonia</td>\n",
       "      <td>5.7</td>\n",
       "      <td>35638.421351</td>\n",
       "    </tr>\n",
       "    <tr>\n",
       "      <th>8</th>\n",
       "      <td>Spain</td>\n",
       "      <td>6.3</td>\n",
       "      <td>36215.447591</td>\n",
       "    </tr>\n",
       "    <tr>\n",
       "      <th>9</th>\n",
       "      <td>Slovenia</td>\n",
       "      <td>5.9</td>\n",
       "      <td>36547.738956</td>\n",
       "    </tr>\n",
       "    <tr>\n",
       "      <th>10</th>\n",
       "      <td>Lithuania</td>\n",
       "      <td>5.9</td>\n",
       "      <td>36732.034744</td>\n",
       "    </tr>\n",
       "    <tr>\n",
       "      <th>11</th>\n",
       "      <td>Israel</td>\n",
       "      <td>7.2</td>\n",
       "      <td>38341.307570</td>\n",
       "    </tr>\n",
       "    <tr>\n",
       "      <th>12</th>\n",
       "      <td>Italy</td>\n",
       "      <td>6.0</td>\n",
       "      <td>38992.148381</td>\n",
       "    </tr>\n",
       "    <tr>\n",
       "      <th>13</th>\n",
       "      <td>United Kingdom</td>\n",
       "      <td>6.8</td>\n",
       "      <td>41627.129269</td>\n",
       "    </tr>\n",
       "    <tr>\n",
       "      <th>14</th>\n",
       "      <td>France</td>\n",
       "      <td>6.5</td>\n",
       "      <td>42025.617373</td>\n",
       "    </tr>\n",
       "    <tr>\n",
       "      <th>15</th>\n",
       "      <td>New Zealand</td>\n",
       "      <td>7.3</td>\n",
       "      <td>42404.393738</td>\n",
       "    </tr>\n",
       "    <tr>\n",
       "      <th>16</th>\n",
       "      <td>Canada</td>\n",
       "      <td>7.4</td>\n",
       "      <td>45856.625626</td>\n",
       "    </tr>\n",
       "    <tr>\n",
       "      <th>17</th>\n",
       "      <td>Finland</td>\n",
       "      <td>7.6</td>\n",
       "      <td>47260.800458</td>\n",
       "    </tr>\n",
       "    <tr>\n",
       "      <th>18</th>\n",
       "      <td>Belgium</td>\n",
       "      <td>6.9</td>\n",
       "      <td>48210.033111</td>\n",
       "    </tr>\n",
       "    <tr>\n",
       "      <th>19</th>\n",
       "      <td>Australia</td>\n",
       "      <td>7.3</td>\n",
       "      <td>48697.837028</td>\n",
       "    </tr>\n",
       "    <tr>\n",
       "      <th>20</th>\n",
       "      <td>Sweden</td>\n",
       "      <td>7.3</td>\n",
       "      <td>50683.323510</td>\n",
       "    </tr>\n",
       "    <tr>\n",
       "      <th>21</th>\n",
       "      <td>Germany</td>\n",
       "      <td>7.0</td>\n",
       "      <td>50922.358023</td>\n",
       "    </tr>\n",
       "    <tr>\n",
       "      <th>22</th>\n",
       "      <td>Austria</td>\n",
       "      <td>7.1</td>\n",
       "      <td>51935.603862</td>\n",
       "    </tr>\n",
       "    <tr>\n",
       "      <th>23</th>\n",
       "      <td>Iceland</td>\n",
       "      <td>7.5</td>\n",
       "      <td>52279.728851</td>\n",
       "    </tr>\n",
       "    <tr>\n",
       "      <th>24</th>\n",
       "      <td>Netherlands</td>\n",
       "      <td>7.4</td>\n",
       "      <td>54209.563836</td>\n",
       "    </tr>\n",
       "    <tr>\n",
       "      <th>25</th>\n",
       "      <td>Denmark</td>\n",
       "      <td>7.6</td>\n",
       "      <td>55938.212809</td>\n",
       "    </tr>\n",
       "    <tr>\n",
       "      <th>26</th>\n",
       "      <td>United States</td>\n",
       "      <td>6.9</td>\n",
       "      <td>60235.728492</td>\n",
       "    </tr>\n",
       "  </tbody>\n",
       "</table>\n",
       "</div>"
      ],
      "text/plain": [
       "           Country  Satysfakcja życia  PKB na mieszkańca (USD)\n",
       "0           Russia                5.8             26456.387938\n",
       "1           Greece                5.4             27287.083401\n",
       "2           Turkey                5.5             28384.987785\n",
       "3           Latvia                5.9             29932.493910\n",
       "4          Hungary                5.6             31007.768407\n",
       "5         Portugal                5.4             32181.154537\n",
       "6           Poland                6.1             32238.157259\n",
       "7          Estonia                5.7             35638.421351\n",
       "8            Spain                6.3             36215.447591\n",
       "9         Slovenia                5.9             36547.738956\n",
       "10       Lithuania                5.9             36732.034744\n",
       "11          Israel                7.2             38341.307570\n",
       "12           Italy                6.0             38992.148381\n",
       "13  United Kingdom                6.8             41627.129269\n",
       "14          France                6.5             42025.617373\n",
       "15     New Zealand                7.3             42404.393738\n",
       "16          Canada                7.4             45856.625626\n",
       "17         Finland                7.6             47260.800458\n",
       "18         Belgium                6.9             48210.033111\n",
       "19       Australia                7.3             48697.837028\n",
       "20          Sweden                7.3             50683.323510\n",
       "21         Germany                7.0             50922.358023\n",
       "22         Austria                7.1             51935.603862\n",
       "23         Iceland                7.5             52279.728851\n",
       "24     Netherlands                7.4             54209.563836\n",
       "25         Denmark                7.6             55938.212809\n",
       "26   United States                6.9             60235.728492"
      ]
     },
     "execution_count": 10,
     "metadata": {},
     "output_type": "execute_result"
    }
   ],
   "source": [
    "lifesat = pd.read_csv(\"data/lifesat/lifesat.cvs\")\n",
    "\n",
    "lifesat.rename(columns={\"Life satisfaction\": \"Satysfakcja życia\"}, inplace=True)\n",
    "lifesat.rename(columns={\"GDP per capita (USD)\": \"PKB na mieszkańca (USD)\"}, inplace=True)\n",
    "lifesat[:50]"
   ]
  },
  {
   "cell_type": "code",
   "execution_count": 11,
   "metadata": {},
   "outputs": [
    {
     "data": {
      "text/plain": [
       "<Axes: xlabel='PKB na mieszkańca (USD)', ylabel='Satysfakcja życia'>"
      ]
     },
     "execution_count": 11,
     "metadata": {},
     "output_type": "execute_result"
    },
    {
     "data": {
      "image/png": "[encoded data removed]",
      "text/plain": [
       "<Figure size 640x480 with 1 Axes>"
      ]
     },
     "metadata": {},
     "output_type": "display_data"
    }
   ],
   "source": [
    "lifesat.plot(kind=\"scatter\", grid=True, x=\"PKB na mieszkańca (USD)\", y=\"Satysfakcja życia\")"
   ]
  },
  {
   "cell_type": "code",
   "execution_count": 12,
   "metadata": {},
   "outputs": [
    {
     "name": "stdout",
     "output_type": "stream",
     "text": [
      "theta_0 = 3.7490494273769093, theta_1 = 6.778899694341222e-05\n",
      "R^2 = 0.7272610933272652\n"
     ]
    }
   ],
   "source": [
    "X = lifesat[[\"PKB na mieszkańca (USD)\"]]\n",
    "y = lifesat[[\"Satysfakcja życia\"]]\n",
    "\n",
    "model = LinearRegression()\n",
    "model.fit(X,y)\n",
    "theta_0 = model.intercept_[0]\n",
    "theta_1 = model.coef_[0][0] \n",
    "print(f\"theta_0 = {theta_0}, theta_1 = {theta_1}\")\n",
    "summary = model.score(X,y)\n",
    "print(f\"R^2 = {summary}\")"
   ]
  },
  {
   "cell_type": "code",
   "execution_count": 13,
   "metadata": {},
   "outputs": [
    {
     "data": {
      "image/png": "[encoded data removed]",
      "text/plain": [
       "<Figure size 640x480 with 1 Axes>"
      ]
     },
     "metadata": {},
     "output_type": "display_data"
    }
   ],
   "source": [
    "lifesat.plot(kind=\"scatter\", grid=True, x=\"PKB na mieszkańca (USD)\", y=\"Satysfakcja życia\")\n",
    "plt.plot(X, theta_0 + theta_1 * X)\n",
    "plt.text(45000, 6.5 , fr\"$\\theta_0 = {theta_0.round(2)}$\", color = \"blue\")\n",
    "plt.text(45000, 6.3 , fr\"$\\theta_1 = {theta_1 * 1e5:.2f} \\cdot 10^{{-5}}$\", color = \"blue\")\n",
    "plt.show()"
   ]
  },
  {
   "cell_type": "code",
   "execution_count": 14,
   "metadata": {},
   "outputs": [
    {
     "data": {
      "text/plain": [
       "37655.1803457421"
      ]
     },
     "execution_count": 14,
     "metadata": {},
     "output_type": "execute_result"
    }
   ],
   "source": [
    "cyprus_gdp_per_capita = gdp_er_capita_2020[gdp_er_capita_2020[\"Entity\"] == \"Cyprus\"][\"GDP per capita (USD)\"].values[0]\n",
    "cyprus_gdp_per_capita"
   ]
  },
  {
   "cell_type": "code",
   "execution_count": 15,
   "metadata": {},
   "outputs": [
    {
     "name": "stderr",
     "output_type": "stream",
     "text": [
      "c:\\Users\\Maciek\\AppData\\Local\\Programs\\Python\\Python312\\Lib\\site-packages\\sklearn\\base.py:465: UserWarning: X does not have valid feature names, but LinearRegression was fitted with feature names\n",
      "  warnings.warn(\n"
     ]
    },
    {
     "data": {
      "text/plain": [
       "6.301656332738056"
      ]
     },
     "execution_count": 15,
     "metadata": {},
     "output_type": "execute_result"
    }
   ],
   "source": [
    "cyprus_predicted_life_satisfaction = model.predict([[cyprus_gdp_per_capita]])[0][0]\n",
    "cyprus_predicted_life_satisfaction"
   ]
  },
  {
   "cell_type": "code",
   "execution_count": 22,
   "metadata": {},
   "outputs": [
    {
     "name": "stderr",
     "output_type": "stream",
     "text": [
      "c:\\Users\\Maciek\\AppData\\Local\\Programs\\Python\\Python312\\Lib\\site-packages\\sklearn\\base.py:465: UserWarning: X does not have valid feature names, but KNeighborsRegressor was fitted with feature names\n",
      "  warnings.warn(\n"
     ]
    },
    {
     "data": {
      "text/plain": [
       "6.333333333333333"
      ]
     },
     "execution_count": 22,
     "metadata": {},
     "output_type": "execute_result"
    }
   ],
   "source": [
    "from sklearn.neighbors import KNeighborsRegressor\n",
    "model_knn = KNeighborsRegressor(n_neighbors=3)  \n",
    "model_knn.fit(X, y)\n",
    "model_knn.predict([[cyprus_gdp_per_capita]])[0,0]"
   ]
  },
  {
   "cell_type": "code",
   "execution_count": null,
   "metadata": {},
   "outputs": [],
   "source": []
  }
 ],
 "metadata": {
  "kernelspec": {
   "display_name": "base",
   "language": "python",
   "name": "python3"
  },
  "language_info": {
   "codemirror_mode": {
    "name": "ipython",
    "version": 3
   },
   "file_extension": ".py",
   "mimetype": "text/x-python",
   "name": "python",
   "nbconvert_exporter": "python",
   "pygments_lexer": "ipython3",
   "version": "3.12.1"
  },
  "orig_nbformat": 4
 },
 "nbformat": 4,
 "nbformat_minor": 2
}
